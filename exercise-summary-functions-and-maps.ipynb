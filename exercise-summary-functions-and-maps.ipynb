{
 "cells": [
  {
   "cell_type": "markdown",
   "id": "6195cee7",
   "metadata": {
    "papermill": {
     "duration": 0.007385,
     "end_time": "2023-03-31T01:53:15.571998",
     "exception": false,
     "start_time": "2023-03-31T01:53:15.564613",
     "status": "completed"
    },
    "tags": []
   },
   "source": [
    "**This notebook is an exercise in the [Pandas](https://www.kaggle.com/learn/pandas) course.  You can reference the tutorial at [this link](https://www.kaggle.com/residentmario/summary-functions-and-maps).**\n",
    "\n",
    "---\n"
   ]
  },
  {
   "cell_type": "markdown",
   "id": "6170c982",
   "metadata": {
    "papermill": {
     "duration": 0.005965,
     "end_time": "2023-03-31T01:53:15.585113",
     "exception": false,
     "start_time": "2023-03-31T01:53:15.579148",
     "status": "completed"
    },
    "tags": []
   },
   "source": [
    "# Introduction\n",
    "\n",
    "Now you are ready to get a deeper understanding of your data.\n",
    "\n",
    "Run the following cell to load your data and some utility functions (including code to check your answers)."
   ]
  },
  {
   "cell_type": "code",
   "execution_count": 1,
   "id": "d5f26b74",
   "metadata": {
    "execution": {
     "iopub.execute_input": "2023-03-31T01:53:15.600130Z",
     "iopub.status.busy": "2023-03-31T01:53:15.599489Z",
     "iopub.status.idle": "2023-03-31T01:53:22.557509Z",
     "shell.execute_reply": "2023-03-31T01:53:22.556027Z"
    },
    "papermill": {
     "duration": 6.969133,
     "end_time": "2023-03-31T01:53:22.560517",
     "exception": false,
     "start_time": "2023-03-31T01:53:15.591384",
     "status": "completed"
    },
    "tags": []
   },
   "outputs": [
    {
     "name": "stdout",
     "output_type": "stream",
     "text": [
      "Setup complete.\n"
     ]
    },
    {
     "data": {
      "text/html": [
       "<div>\n",
       "<style scoped>\n",
       "    .dataframe tbody tr th:only-of-type {\n",
       "        vertical-align: middle;\n",
       "    }\n",
       "\n",
       "    .dataframe tbody tr th {\n",
       "        vertical-align: top;\n",
       "    }\n",
       "\n",
       "    .dataframe thead th {\n",
       "        text-align: right;\n",
       "    }\n",
       "</style>\n",
       "<table border=\"1\" class=\"dataframe\">\n",
       "  <thead>\n",
       "    <tr style=\"text-align: right;\">\n",
       "      <th></th>\n",
       "      <th>country</th>\n",
       "      <th>description</th>\n",
       "      <th>designation</th>\n",
       "      <th>points</th>\n",
       "      <th>price</th>\n",
       "      <th>province</th>\n",
       "      <th>region_1</th>\n",
       "      <th>region_2</th>\n",
       "      <th>taster_name</th>\n",
       "      <th>taster_twitter_handle</th>\n",
       "      <th>title</th>\n",
       "      <th>variety</th>\n",
       "      <th>winery</th>\n",
       "    </tr>\n",
       "  </thead>\n",
       "  <tbody>\n",
       "    <tr>\n",
       "      <th>0</th>\n",
       "      <td>Italy</td>\n",
       "      <td>Aromas include tropical fruit, broom, brimston...</td>\n",
       "      <td>Vulkà Bianco</td>\n",
       "      <td>87</td>\n",
       "      <td>NaN</td>\n",
       "      <td>Sicily &amp; Sardinia</td>\n",
       "      <td>Etna</td>\n",
       "      <td>NaN</td>\n",
       "      <td>Kerin O’Keefe</td>\n",
       "      <td>@kerinokeefe</td>\n",
       "      <td>Nicosia 2013 Vulkà Bianco  (Etna)</td>\n",
       "      <td>White Blend</td>\n",
       "      <td>Nicosia</td>\n",
       "    </tr>\n",
       "    <tr>\n",
       "      <th>1</th>\n",
       "      <td>Portugal</td>\n",
       "      <td>This is ripe and fruity, a wine that is smooth...</td>\n",
       "      <td>Avidagos</td>\n",
       "      <td>87</td>\n",
       "      <td>15.0</td>\n",
       "      <td>Douro</td>\n",
       "      <td>NaN</td>\n",
       "      <td>NaN</td>\n",
       "      <td>Roger Voss</td>\n",
       "      <td>@vossroger</td>\n",
       "      <td>Quinta dos Avidagos 2011 Avidagos Red (Douro)</td>\n",
       "      <td>Portuguese Red</td>\n",
       "      <td>Quinta dos Avidagos</td>\n",
       "    </tr>\n",
       "    <tr>\n",
       "      <th>2</th>\n",
       "      <td>US</td>\n",
       "      <td>Tart and snappy, the flavors of lime flesh and...</td>\n",
       "      <td>NaN</td>\n",
       "      <td>87</td>\n",
       "      <td>14.0</td>\n",
       "      <td>Oregon</td>\n",
       "      <td>Willamette Valley</td>\n",
       "      <td>Willamette Valley</td>\n",
       "      <td>Paul Gregutt</td>\n",
       "      <td>@paulgwine</td>\n",
       "      <td>Rainstorm 2013 Pinot Gris (Willamette Valley)</td>\n",
       "      <td>Pinot Gris</td>\n",
       "      <td>Rainstorm</td>\n",
       "    </tr>\n",
       "    <tr>\n",
       "      <th>3</th>\n",
       "      <td>US</td>\n",
       "      <td>Pineapple rind, lemon pith and orange blossom ...</td>\n",
       "      <td>Reserve Late Harvest</td>\n",
       "      <td>87</td>\n",
       "      <td>13.0</td>\n",
       "      <td>Michigan</td>\n",
       "      <td>Lake Michigan Shore</td>\n",
       "      <td>NaN</td>\n",
       "      <td>Alexander Peartree</td>\n",
       "      <td>NaN</td>\n",
       "      <td>St. Julian 2013 Reserve Late Harvest Riesling ...</td>\n",
       "      <td>Riesling</td>\n",
       "      <td>St. Julian</td>\n",
       "    </tr>\n",
       "    <tr>\n",
       "      <th>4</th>\n",
       "      <td>US</td>\n",
       "      <td>Much like the regular bottling from 2012, this...</td>\n",
       "      <td>Vintner's Reserve Wild Child Block</td>\n",
       "      <td>87</td>\n",
       "      <td>65.0</td>\n",
       "      <td>Oregon</td>\n",
       "      <td>Willamette Valley</td>\n",
       "      <td>Willamette Valley</td>\n",
       "      <td>Paul Gregutt</td>\n",
       "      <td>@paulgwine</td>\n",
       "      <td>Sweet Cheeks 2012 Vintner's Reserve Wild Child...</td>\n",
       "      <td>Pinot Noir</td>\n",
       "      <td>Sweet Cheeks</td>\n",
       "    </tr>\n",
       "  </tbody>\n",
       "</table>\n",
       "</div>"
      ],
      "text/plain": [
       "    country                                        description  \\\n",
       "0     Italy  Aromas include tropical fruit, broom, brimston...   \n",
       "1  Portugal  This is ripe and fruity, a wine that is smooth...   \n",
       "2        US  Tart and snappy, the flavors of lime flesh and...   \n",
       "3        US  Pineapple rind, lemon pith and orange blossom ...   \n",
       "4        US  Much like the regular bottling from 2012, this...   \n",
       "\n",
       "                          designation  points  price           province  \\\n",
       "0                        Vulkà Bianco      87    NaN  Sicily & Sardinia   \n",
       "1                            Avidagos      87   15.0              Douro   \n",
       "2                                 NaN      87   14.0             Oregon   \n",
       "3                Reserve Late Harvest      87   13.0           Michigan   \n",
       "4  Vintner's Reserve Wild Child Block      87   65.0             Oregon   \n",
       "\n",
       "              region_1           region_2         taster_name  \\\n",
       "0                 Etna                NaN       Kerin O’Keefe   \n",
       "1                  NaN                NaN          Roger Voss   \n",
       "2    Willamette Valley  Willamette Valley        Paul Gregutt   \n",
       "3  Lake Michigan Shore                NaN  Alexander Peartree   \n",
       "4    Willamette Valley  Willamette Valley        Paul Gregutt   \n",
       "\n",
       "  taster_twitter_handle                                              title  \\\n",
       "0          @kerinokeefe                  Nicosia 2013 Vulkà Bianco  (Etna)   \n",
       "1            @vossroger      Quinta dos Avidagos 2011 Avidagos Red (Douro)   \n",
       "2           @paulgwine       Rainstorm 2013 Pinot Gris (Willamette Valley)   \n",
       "3                   NaN  St. Julian 2013 Reserve Late Harvest Riesling ...   \n",
       "4           @paulgwine   Sweet Cheeks 2012 Vintner's Reserve Wild Child...   \n",
       "\n",
       "          variety               winery  \n",
       "0     White Blend              Nicosia  \n",
       "1  Portuguese Red  Quinta dos Avidagos  \n",
       "2      Pinot Gris            Rainstorm  \n",
       "3        Riesling           St. Julian  \n",
       "4      Pinot Noir         Sweet Cheeks  "
      ]
     },
     "execution_count": 1,
     "metadata": {},
     "output_type": "execute_result"
    }
   ],
   "source": [
    "import pandas as pd\n",
    "pd.set_option(\"display.max_rows\", 5)\n",
    "reviews = pd.read_csv(\"../input/wine-reviews/winemag-data-130k-v2.csv\", index_col=0)\n",
    "\n",
    "from learntools.core import binder; binder.bind(globals())\n",
    "from learntools.pandas.summary_functions_and_maps import *\n",
    "print(\"Setup complete.\")\n",
    "\n",
    "reviews.head()"
   ]
  },
  {
   "cell_type": "markdown",
   "id": "19f7bdeb",
   "metadata": {
    "papermill": {
     "duration": 0.00638,
     "end_time": "2023-03-31T01:53:22.574057",
     "exception": false,
     "start_time": "2023-03-31T01:53:22.567677",
     "status": "completed"
    },
    "tags": []
   },
   "source": [
    "# Exercises"
   ]
  },
  {
   "cell_type": "markdown",
   "id": "3d105455",
   "metadata": {
    "papermill": {
     "duration": 0.006331,
     "end_time": "2023-03-31T01:53:22.587055",
     "exception": false,
     "start_time": "2023-03-31T01:53:22.580724",
     "status": "completed"
    },
    "tags": []
   },
   "source": [
    "## 1.\n",
    "\n",
    "What is the median of the `points` column in the `reviews` DataFrame?"
   ]
  },
  {
   "cell_type": "code",
   "execution_count": 2,
   "id": "62af7f8c",
   "metadata": {
    "execution": {
     "iopub.execute_input": "2023-03-31T01:53:22.603752Z",
     "iopub.status.busy": "2023-03-31T01:53:22.603307Z",
     "iopub.status.idle": "2023-03-31T01:53:22.616467Z",
     "shell.execute_reply": "2023-03-31T01:53:22.615253Z"
    },
    "papermill": {
     "duration": 0.025228,
     "end_time": "2023-03-31T01:53:22.618946",
     "exception": false,
     "start_time": "2023-03-31T01:53:22.593718",
     "status": "completed"
    },
    "tags": []
   },
   "outputs": [
    {
     "data": {
      "application/javascript": [
       "parent.postMessage({\"jupyterEvent\": \"custom.exercise_interaction\", \"data\": {\"outcomeType\": 1, \"valueTowardsCompletion\": 0.14285714285714285, \"interactionType\": 1, \"questionType\": 1, \"questionId\": \"1_MedianPoints\", \"learnToolsVersion\": \"0.3.4\", \"failureMessage\": \"\", \"exceptionClass\": \"\", \"trace\": \"\"}}, \"*\")"
      ],
      "text/plain": [
       "<IPython.core.display.Javascript object>"
      ]
     },
     "metadata": {},
     "output_type": "display_data"
    },
    {
     "data": {
      "text/markdown": [
       "<span style=\"color:#33cc33\">Correct</span>"
      ],
      "text/plain": [
       "Correct"
      ]
     },
     "metadata": {},
     "output_type": "display_data"
    }
   ],
   "source": [
    "median_points = reviews.points.median()\n",
    "\n",
    "# Check your answer\n",
    "q1.check()"
   ]
  },
  {
   "cell_type": "code",
   "execution_count": 3,
   "id": "d2568196",
   "metadata": {
    "execution": {
     "iopub.execute_input": "2023-03-31T01:53:22.635561Z",
     "iopub.status.busy": "2023-03-31T01:53:22.635034Z",
     "iopub.status.idle": "2023-03-31T01:53:22.640595Z",
     "shell.execute_reply": "2023-03-31T01:53:22.639336Z"
    },
    "papermill": {
     "duration": 0.017469,
     "end_time": "2023-03-31T01:53:22.643339",
     "exception": false,
     "start_time": "2023-03-31T01:53:22.625870",
     "status": "completed"
    },
    "tags": []
   },
   "outputs": [],
   "source": [
    "#q1.hint()\n",
    "#q1.solution()"
   ]
  },
  {
   "cell_type": "markdown",
   "id": "f574066b",
   "metadata": {
    "papermill": {
     "duration": 0.0066,
     "end_time": "2023-03-31T01:53:22.656916",
     "exception": false,
     "start_time": "2023-03-31T01:53:22.650316",
     "status": "completed"
    },
    "tags": []
   },
   "source": [
    "## 2. \n",
    "What countries are represented in the dataset? (Your answer should not include any duplicates.)"
   ]
  },
  {
   "cell_type": "code",
   "execution_count": 4,
   "id": "5a45c9a5",
   "metadata": {
    "execution": {
     "iopub.execute_input": "2023-03-31T01:53:22.672436Z",
     "iopub.status.busy": "2023-03-31T01:53:22.671954Z",
     "iopub.status.idle": "2023-03-31T01:53:22.690507Z",
     "shell.execute_reply": "2023-03-31T01:53:22.689180Z"
    },
    "papermill": {
     "duration": 0.02944,
     "end_time": "2023-03-31T01:53:22.693218",
     "exception": false,
     "start_time": "2023-03-31T01:53:22.663778",
     "status": "completed"
    },
    "tags": []
   },
   "outputs": [
    {
     "data": {
      "application/javascript": [
       "parent.postMessage({\"jupyterEvent\": \"custom.exercise_interaction\", \"data\": {\"outcomeType\": 1, \"valueTowardsCompletion\": 0.14285714285714285, \"interactionType\": 1, \"questionType\": 2, \"questionId\": \"2_UniqueCountries\", \"learnToolsVersion\": \"0.3.4\", \"failureMessage\": \"\", \"exceptionClass\": \"\", \"trace\": \"\"}}, \"*\")"
      ],
      "text/plain": [
       "<IPython.core.display.Javascript object>"
      ]
     },
     "metadata": {},
     "output_type": "display_data"
    },
    {
     "data": {
      "text/markdown": [
       "<span style=\"color:#33cc33\">Correct</span>"
      ],
      "text/plain": [
       "Correct"
      ]
     },
     "metadata": {},
     "output_type": "display_data"
    }
   ],
   "source": [
    "countries = reviews.country.unique()   \n",
    "\n",
    "# Check your answer\n",
    "q2.check()"
   ]
  },
  {
   "cell_type": "code",
   "execution_count": 5,
   "id": "732307fc",
   "metadata": {
    "execution": {
     "iopub.execute_input": "2023-03-31T01:53:22.710022Z",
     "iopub.status.busy": "2023-03-31T01:53:22.709564Z",
     "iopub.status.idle": "2023-03-31T01:53:22.714822Z",
     "shell.execute_reply": "2023-03-31T01:53:22.713373Z"
    },
    "papermill": {
     "duration": 0.016542,
     "end_time": "2023-03-31T01:53:22.717500",
     "exception": false,
     "start_time": "2023-03-31T01:53:22.700958",
     "status": "completed"
    },
    "tags": []
   },
   "outputs": [],
   "source": [
    "#q2.hint()\n",
    "#q2.solution()"
   ]
  },
  {
   "cell_type": "markdown",
   "id": "46885e5f",
   "metadata": {
    "papermill": {
     "duration": 0.006786,
     "end_time": "2023-03-31T01:53:22.731427",
     "exception": false,
     "start_time": "2023-03-31T01:53:22.724641",
     "status": "completed"
    },
    "tags": []
   },
   "source": [
    "## 3.\n",
    "How often does each country appear in the dataset? Create a Series `reviews_per_country` mapping countries to the count of reviews of wines from that country."
   ]
  },
  {
   "cell_type": "code",
   "execution_count": 6,
   "id": "d49cdedb",
   "metadata": {
    "execution": {
     "iopub.execute_input": "2023-03-31T01:53:22.749425Z",
     "iopub.status.busy": "2023-03-31T01:53:22.748129Z",
     "iopub.status.idle": "2023-03-31T01:53:22.768636Z",
     "shell.execute_reply": "2023-03-31T01:53:22.767293Z"
    },
    "papermill": {
     "duration": 0.031589,
     "end_time": "2023-03-31T01:53:22.771255",
     "exception": false,
     "start_time": "2023-03-31T01:53:22.739666",
     "status": "completed"
    },
    "tags": []
   },
   "outputs": [
    {
     "data": {
      "application/javascript": [
       "parent.postMessage({\"jupyterEvent\": \"custom.exercise_interaction\", \"data\": {\"outcomeType\": 1, \"valueTowardsCompletion\": 0.14285714285714285, \"interactionType\": 1, \"questionType\": 1, \"questionId\": \"3_ReviewsPerCountry\", \"learnToolsVersion\": \"0.3.4\", \"failureMessage\": \"\", \"exceptionClass\": \"\", \"trace\": \"\"}}, \"*\")"
      ],
      "text/plain": [
       "<IPython.core.display.Javascript object>"
      ]
     },
     "metadata": {},
     "output_type": "display_data"
    },
    {
     "data": {
      "text/markdown": [
       "<span style=\"color:#33cc33\">Correct</span>"
      ],
      "text/plain": [
       "Correct"
      ]
     },
     "metadata": {},
     "output_type": "display_data"
    }
   ],
   "source": [
    "reviews_per_country = reviews.country.value_counts()\n",
    "\n",
    "# Check your answer\n",
    "q3.check()"
   ]
  },
  {
   "cell_type": "code",
   "execution_count": 7,
   "id": "f204a366",
   "metadata": {
    "execution": {
     "iopub.execute_input": "2023-03-31T01:53:22.788169Z",
     "iopub.status.busy": "2023-03-31T01:53:22.787721Z",
     "iopub.status.idle": "2023-03-31T01:53:22.793267Z",
     "shell.execute_reply": "2023-03-31T01:53:22.791578Z"
    },
    "papermill": {
     "duration": 0.017301,
     "end_time": "2023-03-31T01:53:22.795981",
     "exception": false,
     "start_time": "2023-03-31T01:53:22.778680",
     "status": "completed"
    },
    "tags": []
   },
   "outputs": [],
   "source": [
    "#q3.hint()\n",
    "#q3.solution()"
   ]
  },
  {
   "cell_type": "markdown",
   "id": "1f8d2834",
   "metadata": {
    "papermill": {
     "duration": 0.006874,
     "end_time": "2023-03-31T01:53:22.810388",
     "exception": false,
     "start_time": "2023-03-31T01:53:22.803514",
     "status": "completed"
    },
    "tags": []
   },
   "source": [
    "## 4.\n",
    "Create variable `centered_price` containing a version of the `price` column with the mean price subtracted.\n",
    "\n",
    "(Note: this 'centering' transformation is a common preprocessing step before applying various machine learning algorithms.) "
   ]
  },
  {
   "cell_type": "code",
   "execution_count": 8,
   "id": "11ac8fd0",
   "metadata": {
    "execution": {
     "iopub.execute_input": "2023-03-31T01:53:22.826845Z",
     "iopub.status.busy": "2023-03-31T01:53:22.826394Z",
     "iopub.status.idle": "2023-03-31T01:53:22.838737Z",
     "shell.execute_reply": "2023-03-31T01:53:22.837443Z"
    },
    "papermill": {
     "duration": 0.023407,
     "end_time": "2023-03-31T01:53:22.841094",
     "exception": false,
     "start_time": "2023-03-31T01:53:22.817687",
     "status": "completed"
    },
    "tags": []
   },
   "outputs": [
    {
     "data": {
      "application/javascript": [
       "parent.postMessage({\"jupyterEvent\": \"custom.exercise_interaction\", \"data\": {\"outcomeType\": 1, \"valueTowardsCompletion\": 0.14285714285714285, \"interactionType\": 1, \"questionType\": 1, \"questionId\": \"4_CenteredPrice\", \"learnToolsVersion\": \"0.3.4\", \"failureMessage\": \"\", \"exceptionClass\": \"\", \"trace\": \"\"}}, \"*\")"
      ],
      "text/plain": [
       "<IPython.core.display.Javascript object>"
      ]
     },
     "metadata": {},
     "output_type": "display_data"
    },
    {
     "data": {
      "text/markdown": [
       "<span style=\"color:#33cc33\">Correct</span>"
      ],
      "text/plain": [
       "Correct"
      ]
     },
     "metadata": {},
     "output_type": "display_data"
    }
   ],
   "source": [
    "centered_price = reviews.price-reviews.price.mean()\n",
    "\n",
    "\n",
    "# Check your answer\n",
    "q4.check()"
   ]
  },
  {
   "cell_type": "code",
   "execution_count": 9,
   "id": "00248511",
   "metadata": {
    "execution": {
     "iopub.execute_input": "2023-03-31T01:53:22.858335Z",
     "iopub.status.busy": "2023-03-31T01:53:22.857833Z",
     "iopub.status.idle": "2023-03-31T01:53:22.863570Z",
     "shell.execute_reply": "2023-03-31T01:53:22.862107Z"
    },
    "papermill": {
     "duration": 0.017299,
     "end_time": "2023-03-31T01:53:22.865989",
     "exception": false,
     "start_time": "2023-03-31T01:53:22.848690",
     "status": "completed"
    },
    "tags": []
   },
   "outputs": [],
   "source": [
    "#q4.hint()\n",
    "#q4.solution()"
   ]
  },
  {
   "cell_type": "markdown",
   "id": "1507d9ca",
   "metadata": {
    "papermill": {
     "duration": 0.007229,
     "end_time": "2023-03-31T01:53:22.881344",
     "exception": false,
     "start_time": "2023-03-31T01:53:22.874115",
     "status": "completed"
    },
    "tags": []
   },
   "source": [
    "## 5.\n",
    "I'm an economical wine buyer. Which wine is the \"best bargain\"? Create a variable `bargain_wine` with the title of the wine with the highest points-to-price ratio in the dataset."
   ]
  },
  {
   "cell_type": "code",
   "execution_count": 10,
   "id": "3b455bd4",
   "metadata": {
    "execution": {
     "iopub.execute_input": "2023-03-31T01:53:22.898878Z",
     "iopub.status.busy": "2023-03-31T01:53:22.897847Z",
     "iopub.status.idle": "2023-03-31T01:53:22.912294Z",
     "shell.execute_reply": "2023-03-31T01:53:22.911077Z"
    },
    "papermill": {
     "duration": 0.025806,
     "end_time": "2023-03-31T01:53:22.914716",
     "exception": false,
     "start_time": "2023-03-31T01:53:22.888910",
     "status": "completed"
    },
    "tags": []
   },
   "outputs": [
    {
     "data": {
      "application/javascript": [
       "parent.postMessage({\"jupyterEvent\": \"custom.exercise_interaction\", \"data\": {\"outcomeType\": 1, \"valueTowardsCompletion\": 0.14285714285714285, \"interactionType\": 1, \"questionType\": 2, \"questionId\": \"5_BargainWine\", \"learnToolsVersion\": \"0.3.4\", \"failureMessage\": \"\", \"exceptionClass\": \"\", \"trace\": \"\"}}, \"*\")"
      ],
      "text/plain": [
       "<IPython.core.display.Javascript object>"
      ]
     },
     "metadata": {},
     "output_type": "display_data"
    },
    {
     "data": {
      "text/markdown": [
       "<span style=\"color:#33cc33\">Correct</span>"
      ],
      "text/plain": [
       "Correct"
      ]
     },
     "metadata": {},
     "output_type": "display_data"
    }
   ],
   "source": [
    "bargain_wine =reviews.loc[(reviews.points/reviews.price).idxmax(),'title']\n",
    "\n",
    "# Check your answer\n",
    "q5.check()"
   ]
  },
  {
   "cell_type": "code",
   "execution_count": 11,
   "id": "ddfc1c91",
   "metadata": {
    "execution": {
     "iopub.execute_input": "2023-03-31T01:53:22.932335Z",
     "iopub.status.busy": "2023-03-31T01:53:22.931864Z",
     "iopub.status.idle": "2023-03-31T01:53:22.937273Z",
     "shell.execute_reply": "2023-03-31T01:53:22.935877Z"
    },
    "papermill": {
     "duration": 0.017113,
     "end_time": "2023-03-31T01:53:22.939784",
     "exception": false,
     "start_time": "2023-03-31T01:53:22.922671",
     "status": "completed"
    },
    "tags": []
   },
   "outputs": [],
   "source": [
    "#q5.hint()\n",
    "#q5.solution()"
   ]
  },
  {
   "cell_type": "markdown",
   "id": "4bdaef64",
   "metadata": {
    "papermill": {
     "duration": 0.007593,
     "end_time": "2023-03-31T01:53:22.955466",
     "exception": false,
     "start_time": "2023-03-31T01:53:22.947873",
     "status": "completed"
    },
    "tags": []
   },
   "source": [
    "## 6.\n",
    "There are only so many words you can use when describing a bottle of wine. Is a wine more likely to be \"tropical\" or \"fruity\"? Create a Series `descriptor_counts` counting how many times each of these two words appears in the `description` column in the dataset. (For simplicity, let's ignore the capitalized versions of these words.)"
   ]
  },
  {
   "cell_type": "code",
   "execution_count": 12,
   "id": "374355de",
   "metadata": {
    "execution": {
     "iopub.execute_input": "2023-03-31T01:53:22.974393Z",
     "iopub.status.busy": "2023-03-31T01:53:22.973393Z",
     "iopub.status.idle": "2023-03-31T01:53:23.124969Z",
     "shell.execute_reply": "2023-03-31T01:53:23.123723Z"
    },
    "papermill": {
     "duration": 0.163943,
     "end_time": "2023-03-31T01:53:23.127663",
     "exception": false,
     "start_time": "2023-03-31T01:53:22.963720",
     "status": "completed"
    },
    "tags": []
   },
   "outputs": [
    {
     "data": {
      "application/javascript": [
       "parent.postMessage({\"jupyterEvent\": \"custom.exercise_interaction\", \"data\": {\"outcomeType\": 1, \"valueTowardsCompletion\": 0.14285714285714285, \"interactionType\": 1, \"questionType\": 1, \"questionId\": \"6_DescriptorCounts\", \"learnToolsVersion\": \"0.3.4\", \"failureMessage\": \"\", \"exceptionClass\": \"\", \"trace\": \"\"}}, \"*\")"
      ],
      "text/plain": [
       "<IPython.core.display.Javascript object>"
      ]
     },
     "metadata": {},
     "output_type": "display_data"
    },
    {
     "data": {
      "text/markdown": [
       "<span style=\"color:#33cc33\">Correct</span>"
      ],
      "text/plain": [
       "Correct"
      ]
     },
     "metadata": {},
     "output_type": "display_data"
    }
   ],
   "source": [
    "n_trop = reviews.description.map(lambda desc: \"tropical\" in desc).sum()\n",
    "n_fruity = reviews.description.map(lambda desc: \"fruity\" in desc).sum()\n",
    "descriptor_counts = pd.Series([n_trop, n_fruity], index=['tropical', 'fruity'])\n",
    "#check your answer\n",
    "q6.check()"
   ]
  },
  {
   "cell_type": "code",
   "execution_count": 13,
   "id": "a654a6e2",
   "metadata": {
    "execution": {
     "iopub.execute_input": "2023-03-31T01:53:23.146282Z",
     "iopub.status.busy": "2023-03-31T01:53:23.145429Z",
     "iopub.status.idle": "2023-03-31T01:53:23.150923Z",
     "shell.execute_reply": "2023-03-31T01:53:23.149664Z"
    },
    "papermill": {
     "duration": 0.017781,
     "end_time": "2023-03-31T01:53:23.153626",
     "exception": false,
     "start_time": "2023-03-31T01:53:23.135845",
     "status": "completed"
    },
    "tags": []
   },
   "outputs": [],
   "source": [
    "#q6.hint()\n",
    "#q6.solution()"
   ]
  },
  {
   "cell_type": "markdown",
   "id": "1d5ffec5",
   "metadata": {
    "papermill": {
     "duration": 0.007985,
     "end_time": "2023-03-31T01:53:23.169624",
     "exception": false,
     "start_time": "2023-03-31T01:53:23.161639",
     "status": "completed"
    },
    "tags": []
   },
   "source": [
    "## 7.\n",
    "We'd like to host these wine reviews on our website, but a rating system ranging from 80 to 100 points is too hard to understand - we'd like to translate them into simple star ratings. A score of 95 or higher counts as 3 stars, a score of at least 85 but less than 95 is 2 stars. Any other score is 1 star.\n",
    "\n",
    "Also, the Canadian Vintners Association bought a lot of ads on the site, so any wines from Canada should automatically get 3 stars, regardless of points.\n",
    "\n",
    "Create a series `star_ratings` with the number of stars corresponding to each review in the dataset."
   ]
  },
  {
   "cell_type": "code",
   "execution_count": 14,
   "id": "552f4a53",
   "metadata": {
    "execution": {
     "iopub.execute_input": "2023-03-31T01:53:23.188714Z",
     "iopub.status.busy": "2023-03-31T01:53:23.188259Z",
     "iopub.status.idle": "2023-03-31T01:53:27.195773Z",
     "shell.execute_reply": "2023-03-31T01:53:27.194614Z"
    },
    "papermill": {
     "duration": 4.020398,
     "end_time": "2023-03-31T01:53:27.198547",
     "exception": false,
     "start_time": "2023-03-31T01:53:23.178149",
     "status": "completed"
    },
    "tags": []
   },
   "outputs": [
    {
     "data": {
      "application/javascript": [
       "parent.postMessage({\"jupyterEvent\": \"custom.exercise_interaction\", \"data\": {\"outcomeType\": 1, \"valueTowardsCompletion\": 0.14285714285714285, \"interactionType\": 1, \"questionType\": 1, \"questionId\": \"7_StarRatings\", \"learnToolsVersion\": \"0.3.4\", \"failureMessage\": \"\", \"exceptionClass\": \"\", \"trace\": \"\"}}, \"*\")"
      ],
      "text/plain": [
       "<IPython.core.display.Javascript object>"
      ]
     },
     "metadata": {},
     "output_type": "display_data"
    },
    {
     "data": {
      "text/markdown": [
       "<span style=\"color:#33cc33\">Correct</span>"
      ],
      "text/plain": [
       "Correct"
      ]
     },
     "metadata": {},
     "output_type": "display_data"
    }
   ],
   "source": [
    "def stars(row):\n",
    "    if row.country == 'Canada':\n",
    "        return 3\n",
    "    elif row.points >= 95:\n",
    "        return 3\n",
    "    elif row.points >= 85:\n",
    "        return 2\n",
    "    else:\n",
    "        return 1\n",
    "\n",
    "star_ratings = reviews.apply(stars, axis='columns')\n",
    "\n",
    "# Check your answer\n",
    "q7.check()"
   ]
  },
  {
   "cell_type": "code",
   "execution_count": 15,
   "id": "23f210aa",
   "metadata": {
    "execution": {
     "iopub.execute_input": "2023-03-31T01:53:27.217953Z",
     "iopub.status.busy": "2023-03-31T01:53:27.217058Z",
     "iopub.status.idle": "2023-03-31T01:53:27.231286Z",
     "shell.execute_reply": "2023-03-31T01:53:27.229767Z"
    },
    "papermill": {
     "duration": 0.026927,
     "end_time": "2023-03-31T01:53:27.233898",
     "exception": false,
     "start_time": "2023-03-31T01:53:27.206971",
     "status": "completed"
    },
    "tags": []
   },
   "outputs": [
    {
     "data": {
      "application/javascript": [
       "parent.postMessage({\"jupyterEvent\": \"custom.exercise_interaction\", \"data\": {\"interactionType\": 3, \"questionType\": 1, \"questionId\": \"7_StarRatings\", \"learnToolsVersion\": \"0.3.4\", \"valueTowardsCompletion\": 0.0, \"failureMessage\": \"\", \"exceptionClass\": \"\", \"trace\": \"\", \"outcomeType\": 4}}, \"*\")"
      ],
      "text/plain": [
       "<IPython.core.display.Javascript object>"
      ]
     },
     "metadata": {},
     "output_type": "display_data"
    },
    {
     "data": {
      "text/markdown": [
       "<span style=\"color:#33cc99\">Solution:</span> \n",
       "```python\n",
       "def stars(row):\n",
       "    if row.country == 'Canada':\n",
       "        return 3\n",
       "    elif row.points >= 95:\n",
       "        return 3\n",
       "    elif row.points >= 85:\n",
       "        return 2\n",
       "    else:\n",
       "        return 1\n",
       "    \n",
       "star_ratings = reviews.apply(stars, axis='columns')\n",
       "```"
      ],
      "text/plain": [
       "Solution: \n",
       "```python\n",
       "def stars(row):\n",
       "    if row.country == 'Canada':\n",
       "        return 3\n",
       "    elif row.points >= 95:\n",
       "        return 3\n",
       "    elif row.points >= 85:\n",
       "        return 2\n",
       "    else:\n",
       "        return 1\n",
       "    \n",
       "star_ratings = reviews.apply(stars, axis='columns')\n",
       "```"
      ]
     },
     "metadata": {},
     "output_type": "display_data"
    }
   ],
   "source": [
    "#q7.hint()\n",
    "q7.solution()"
   ]
  },
  {
   "cell_type": "markdown",
   "id": "7fa64b93",
   "metadata": {
    "papermill": {
     "duration": 0.008762,
     "end_time": "2023-03-31T01:53:27.251525",
     "exception": false,
     "start_time": "2023-03-31T01:53:27.242763",
     "status": "completed"
    },
    "tags": []
   },
   "source": [
    "# Keep going\n",
    "Continue to **[grouping and sorting](https://www.kaggle.com/residentmario/grouping-and-sorting)**."
   ]
  },
  {
   "cell_type": "markdown",
   "id": "3a4c5532",
   "metadata": {
    "papermill": {
     "duration": 0.008629,
     "end_time": "2023-03-31T01:53:27.268950",
     "exception": false,
     "start_time": "2023-03-31T01:53:27.260321",
     "status": "completed"
    },
    "tags": []
   },
   "source": [
    "---\n",
    "\n",
    "\n",
    "\n",
    "\n",
    "*Have questions or comments? Visit the [course discussion forum](https://www.kaggle.com/learn/pandas/discussion) to chat with other learners.*"
   ]
  }
 ],
 "metadata": {
  "kernelspec": {
   "display_name": "Python 3",
   "language": "python",
   "name": "python3"
  },
  "language_info": {
   "codemirror_mode": {
    "name": "ipython",
    "version": 3
   },
   "file_extension": ".py",
   "mimetype": "text/x-python",
   "name": "python",
   "nbconvert_exporter": "python",
   "pygments_lexer": "ipython3",
   "version": "3.7.12"
  },
  "papermill": {
   "default_parameters": {},
   "duration": 25.084239,
   "end_time": "2023-03-31T01:53:28.103065",
   "environment_variables": {},
   "exception": null,
   "input_path": "__notebook__.ipynb",
   "output_path": "__notebook__.ipynb",
   "parameters": {},
   "start_time": "2023-03-31T01:53:03.018826",
   "version": "2.4.0"
  }
 },
 "nbformat": 4,
 "nbformat_minor": 5
}
