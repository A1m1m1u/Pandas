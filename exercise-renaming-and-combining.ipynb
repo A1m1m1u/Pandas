{
 "cells": [
  {
   "cell_type": "markdown",
   "id": "6a5801d4",
   "metadata": {
    "papermill": {
     "duration": 0.006624,
     "end_time": "2023-03-31T02:03:12.922456",
     "exception": false,
     "start_time": "2023-03-31T02:03:12.915832",
     "status": "completed"
    },
    "tags": []
   },
   "source": [
    "**This notebook is an exercise in the [Pandas](https://www.kaggle.com/learn/pandas) course.  You can reference the tutorial at [this link](https://www.kaggle.com/residentmario/renaming-and-combining).**\n",
    "\n",
    "---\n"
   ]
  },
  {
   "cell_type": "markdown",
   "id": "199de8dc",
   "metadata": {
    "papermill": {
     "duration": 0.004831,
     "end_time": "2023-03-31T02:03:12.932619",
     "exception": false,
     "start_time": "2023-03-31T02:03:12.927788",
     "status": "completed"
    },
    "tags": []
   },
   "source": [
    "# Introduction\n",
    "\n",
    "Run the following cell to load your data and some utility functions."
   ]
  },
  {
   "cell_type": "code",
   "execution_count": 1,
   "id": "ac359216",
   "metadata": {
    "execution": {
     "iopub.execute_input": "2023-03-31T02:03:12.944890Z",
     "iopub.status.busy": "2023-03-31T02:03:12.944482Z",
     "iopub.status.idle": "2023-03-31T02:03:16.873123Z",
     "shell.execute_reply": "2023-03-31T02:03:16.871819Z"
    },
    "papermill": {
     "duration": 3.938126,
     "end_time": "2023-03-31T02:03:16.875909",
     "exception": false,
     "start_time": "2023-03-31T02:03:12.937783",
     "status": "completed"
    },
    "tags": []
   },
   "outputs": [
    {
     "name": "stdout",
     "output_type": "stream",
     "text": [
      "Setup complete.\n"
     ]
    }
   ],
   "source": [
    "import pandas as pd\n",
    "\n",
    "reviews = pd.read_csv(\"../input/wine-reviews/winemag-data-130k-v2.csv\", index_col=0)\n",
    "\n",
    "from learntools.core import binder; binder.bind(globals())\n",
    "from learntools.pandas.renaming_and_combining import *\n",
    "print(\"Setup complete.\")"
   ]
  },
  {
   "cell_type": "markdown",
   "id": "eb7884e8",
   "metadata": {
    "papermill": {
     "duration": 0.00498,
     "end_time": "2023-03-31T02:03:16.886235",
     "exception": false,
     "start_time": "2023-03-31T02:03:16.881255",
     "status": "completed"
    },
    "tags": []
   },
   "source": [
    "# Exercises\n",
    "\n",
    "View the first several lines of your data by running the cell below:"
   ]
  },
  {
   "cell_type": "code",
   "execution_count": 2,
   "id": "40b6e08a",
   "metadata": {
    "execution": {
     "iopub.execute_input": "2023-03-31T02:03:16.898212Z",
     "iopub.status.busy": "2023-03-31T02:03:16.897774Z",
     "iopub.status.idle": "2023-03-31T02:03:16.928125Z",
     "shell.execute_reply": "2023-03-31T02:03:16.926777Z"
    },
    "papermill": {
     "duration": 0.039264,
     "end_time": "2023-03-31T02:03:16.930634",
     "exception": false,
     "start_time": "2023-03-31T02:03:16.891370",
     "status": "completed"
    },
    "tags": []
   },
   "outputs": [
    {
     "data": {
      "text/html": [
       "<div>\n",
       "<style scoped>\n",
       "    .dataframe tbody tr th:only-of-type {\n",
       "        vertical-align: middle;\n",
       "    }\n",
       "\n",
       "    .dataframe tbody tr th {\n",
       "        vertical-align: top;\n",
       "    }\n",
       "\n",
       "    .dataframe thead th {\n",
       "        text-align: right;\n",
       "    }\n",
       "</style>\n",
       "<table border=\"1\" class=\"dataframe\">\n",
       "  <thead>\n",
       "    <tr style=\"text-align: right;\">\n",
       "      <th></th>\n",
       "      <th>country</th>\n",
       "      <th>description</th>\n",
       "      <th>designation</th>\n",
       "      <th>points</th>\n",
       "      <th>price</th>\n",
       "      <th>province</th>\n",
       "      <th>region_1</th>\n",
       "      <th>region_2</th>\n",
       "      <th>taster_name</th>\n",
       "      <th>taster_twitter_handle</th>\n",
       "      <th>title</th>\n",
       "      <th>variety</th>\n",
       "      <th>winery</th>\n",
       "    </tr>\n",
       "  </thead>\n",
       "  <tbody>\n",
       "    <tr>\n",
       "      <th>0</th>\n",
       "      <td>Italy</td>\n",
       "      <td>Aromas include tropical fruit, broom, brimston...</td>\n",
       "      <td>Vulkà Bianco</td>\n",
       "      <td>87</td>\n",
       "      <td>NaN</td>\n",
       "      <td>Sicily &amp; Sardinia</td>\n",
       "      <td>Etna</td>\n",
       "      <td>NaN</td>\n",
       "      <td>Kerin O’Keefe</td>\n",
       "      <td>@kerinokeefe</td>\n",
       "      <td>Nicosia 2013 Vulkà Bianco  (Etna)</td>\n",
       "      <td>White Blend</td>\n",
       "      <td>Nicosia</td>\n",
       "    </tr>\n",
       "    <tr>\n",
       "      <th>1</th>\n",
       "      <td>Portugal</td>\n",
       "      <td>This is ripe and fruity, a wine that is smooth...</td>\n",
       "      <td>Avidagos</td>\n",
       "      <td>87</td>\n",
       "      <td>15.0</td>\n",
       "      <td>Douro</td>\n",
       "      <td>NaN</td>\n",
       "      <td>NaN</td>\n",
       "      <td>Roger Voss</td>\n",
       "      <td>@vossroger</td>\n",
       "      <td>Quinta dos Avidagos 2011 Avidagos Red (Douro)</td>\n",
       "      <td>Portuguese Red</td>\n",
       "      <td>Quinta dos Avidagos</td>\n",
       "    </tr>\n",
       "    <tr>\n",
       "      <th>2</th>\n",
       "      <td>US</td>\n",
       "      <td>Tart and snappy, the flavors of lime flesh and...</td>\n",
       "      <td>NaN</td>\n",
       "      <td>87</td>\n",
       "      <td>14.0</td>\n",
       "      <td>Oregon</td>\n",
       "      <td>Willamette Valley</td>\n",
       "      <td>Willamette Valley</td>\n",
       "      <td>Paul Gregutt</td>\n",
       "      <td>@paulgwine</td>\n",
       "      <td>Rainstorm 2013 Pinot Gris (Willamette Valley)</td>\n",
       "      <td>Pinot Gris</td>\n",
       "      <td>Rainstorm</td>\n",
       "    </tr>\n",
       "    <tr>\n",
       "      <th>3</th>\n",
       "      <td>US</td>\n",
       "      <td>Pineapple rind, lemon pith and orange blossom ...</td>\n",
       "      <td>Reserve Late Harvest</td>\n",
       "      <td>87</td>\n",
       "      <td>13.0</td>\n",
       "      <td>Michigan</td>\n",
       "      <td>Lake Michigan Shore</td>\n",
       "      <td>NaN</td>\n",
       "      <td>Alexander Peartree</td>\n",
       "      <td>NaN</td>\n",
       "      <td>St. Julian 2013 Reserve Late Harvest Riesling ...</td>\n",
       "      <td>Riesling</td>\n",
       "      <td>St. Julian</td>\n",
       "    </tr>\n",
       "    <tr>\n",
       "      <th>4</th>\n",
       "      <td>US</td>\n",
       "      <td>Much like the regular bottling from 2012, this...</td>\n",
       "      <td>Vintner's Reserve Wild Child Block</td>\n",
       "      <td>87</td>\n",
       "      <td>65.0</td>\n",
       "      <td>Oregon</td>\n",
       "      <td>Willamette Valley</td>\n",
       "      <td>Willamette Valley</td>\n",
       "      <td>Paul Gregutt</td>\n",
       "      <td>@paulgwine</td>\n",
       "      <td>Sweet Cheeks 2012 Vintner's Reserve Wild Child...</td>\n",
       "      <td>Pinot Noir</td>\n",
       "      <td>Sweet Cheeks</td>\n",
       "    </tr>\n",
       "  </tbody>\n",
       "</table>\n",
       "</div>"
      ],
      "text/plain": [
       "    country                                        description  \\\n",
       "0     Italy  Aromas include tropical fruit, broom, brimston...   \n",
       "1  Portugal  This is ripe and fruity, a wine that is smooth...   \n",
       "2        US  Tart and snappy, the flavors of lime flesh and...   \n",
       "3        US  Pineapple rind, lemon pith and orange blossom ...   \n",
       "4        US  Much like the regular bottling from 2012, this...   \n",
       "\n",
       "                          designation  points  price           province  \\\n",
       "0                        Vulkà Bianco      87    NaN  Sicily & Sardinia   \n",
       "1                            Avidagos      87   15.0              Douro   \n",
       "2                                 NaN      87   14.0             Oregon   \n",
       "3                Reserve Late Harvest      87   13.0           Michigan   \n",
       "4  Vintner's Reserve Wild Child Block      87   65.0             Oregon   \n",
       "\n",
       "              region_1           region_2         taster_name  \\\n",
       "0                 Etna                NaN       Kerin O’Keefe   \n",
       "1                  NaN                NaN          Roger Voss   \n",
       "2    Willamette Valley  Willamette Valley        Paul Gregutt   \n",
       "3  Lake Michigan Shore                NaN  Alexander Peartree   \n",
       "4    Willamette Valley  Willamette Valley        Paul Gregutt   \n",
       "\n",
       "  taster_twitter_handle                                              title  \\\n",
       "0          @kerinokeefe                  Nicosia 2013 Vulkà Bianco  (Etna)   \n",
       "1            @vossroger      Quinta dos Avidagos 2011 Avidagos Red (Douro)   \n",
       "2           @paulgwine       Rainstorm 2013 Pinot Gris (Willamette Valley)   \n",
       "3                   NaN  St. Julian 2013 Reserve Late Harvest Riesling ...   \n",
       "4           @paulgwine   Sweet Cheeks 2012 Vintner's Reserve Wild Child...   \n",
       "\n",
       "          variety               winery  \n",
       "0     White Blend              Nicosia  \n",
       "1  Portuguese Red  Quinta dos Avidagos  \n",
       "2      Pinot Gris            Rainstorm  \n",
       "3        Riesling           St. Julian  \n",
       "4      Pinot Noir         Sweet Cheeks  "
      ]
     },
     "execution_count": 2,
     "metadata": {},
     "output_type": "execute_result"
    }
   ],
   "source": [
    "reviews.head()"
   ]
  },
  {
   "cell_type": "markdown",
   "id": "c95a3a4c",
   "metadata": {
    "papermill": {
     "duration": 0.005305,
     "end_time": "2023-03-31T02:03:16.941798",
     "exception": false,
     "start_time": "2023-03-31T02:03:16.936493",
     "status": "completed"
    },
    "tags": []
   },
   "source": [
    "## 1.\n",
    "`region_1` and `region_2` are pretty uninformative names for locale columns in the dataset. Create a copy of `reviews` with these columns renamed to `region` and `locale`, respectively."
   ]
  },
  {
   "cell_type": "code",
   "execution_count": 3,
   "id": "3b2a1ae2",
   "metadata": {
    "execution": {
     "iopub.execute_input": "2023-03-31T02:03:16.954672Z",
     "iopub.status.busy": "2023-03-31T02:03:16.954224Z",
     "iopub.status.idle": "2023-03-31T02:03:16.991598Z",
     "shell.execute_reply": "2023-03-31T02:03:16.990362Z"
    },
    "papermill": {
     "duration": 0.046544,
     "end_time": "2023-03-31T02:03:16.993873",
     "exception": false,
     "start_time": "2023-03-31T02:03:16.947329",
     "status": "completed"
    },
    "tags": []
   },
   "outputs": [
    {
     "data": {
      "application/javascript": [
       "parent.postMessage({\"jupyterEvent\": \"custom.exercise_interaction\", \"data\": {\"outcomeType\": 1, \"valueTowardsCompletion\": 0.25, \"interactionType\": 1, \"questionType\": 1, \"questionId\": \"1_RenameCols\", \"learnToolsVersion\": \"0.3.4\", \"failureMessage\": \"\", \"exceptionClass\": \"\", \"trace\": \"\"}}, \"*\")"
      ],
      "text/plain": [
       "<IPython.core.display.Javascript object>"
      ]
     },
     "metadata": {},
     "output_type": "display_data"
    },
    {
     "data": {
      "text/markdown": [
       "<span style=\"color:#33cc33\">Correct</span>"
      ],
      "text/plain": [
       "Correct"
      ]
     },
     "metadata": {},
     "output_type": "display_data"
    }
   ],
   "source": [
    "# Your code here\n",
    "renamed = reviews.rename(columns=dict(region_1='region', region_2='locale'))\n",
    "\n",
    "# Check your answer\n",
    "q1.check()"
   ]
  },
  {
   "cell_type": "code",
   "execution_count": 4,
   "id": "51c81aef",
   "metadata": {
    "execution": {
     "iopub.execute_input": "2023-03-31T02:03:17.007985Z",
     "iopub.status.busy": "2023-03-31T02:03:17.006884Z",
     "iopub.status.idle": "2023-03-31T02:03:17.011396Z",
     "shell.execute_reply": "2023-03-31T02:03:17.010447Z"
    },
    "papermill": {
     "duration": 0.014016,
     "end_time": "2023-03-31T02:03:17.013807",
     "exception": false,
     "start_time": "2023-03-31T02:03:16.999791",
     "status": "completed"
    },
    "tags": []
   },
   "outputs": [],
   "source": [
    "#q1.hint()\n",
    "#q1.solution()"
   ]
  },
  {
   "cell_type": "markdown",
   "id": "e9011f11",
   "metadata": {
    "papermill": {
     "duration": 0.005862,
     "end_time": "2023-03-31T02:03:17.025635",
     "exception": false,
     "start_time": "2023-03-31T02:03:17.019773",
     "status": "completed"
    },
    "tags": []
   },
   "source": [
    "## 2.\n",
    "Set the index name in the dataset to `wines`."
   ]
  },
  {
   "cell_type": "code",
   "execution_count": 5,
   "id": "de27a3e2",
   "metadata": {
    "execution": {
     "iopub.execute_input": "2023-03-31T02:03:17.039112Z",
     "iopub.status.busy": "2023-03-31T02:03:17.038721Z",
     "iopub.status.idle": "2023-03-31T02:03:17.074734Z",
     "shell.execute_reply": "2023-03-31T02:03:17.073537Z"
    },
    "papermill": {
     "duration": 0.045522,
     "end_time": "2023-03-31T02:03:17.076919",
     "exception": false,
     "start_time": "2023-03-31T02:03:17.031397",
     "status": "completed"
    },
    "tags": []
   },
   "outputs": [
    {
     "data": {
      "application/javascript": [
       "parent.postMessage({\"jupyterEvent\": \"custom.exercise_interaction\", \"data\": {\"outcomeType\": 1, \"valueTowardsCompletion\": 0.25, \"interactionType\": 1, \"questionType\": 1, \"questionId\": \"2_RenameIndex\", \"learnToolsVersion\": \"0.3.4\", \"failureMessage\": \"\", \"exceptionClass\": \"\", \"trace\": \"\"}}, \"*\")"
      ],
      "text/plain": [
       "<IPython.core.display.Javascript object>"
      ]
     },
     "metadata": {},
     "output_type": "display_data"
    },
    {
     "data": {
      "text/markdown": [
       "<span style=\"color:#33cc33\">Correct</span>"
      ],
      "text/plain": [
       "Correct"
      ]
     },
     "metadata": {},
     "output_type": "display_data"
    }
   ],
   "source": [
    "reindexed = reviews.rename_axis('wines', axis='rows')\n",
    "\n",
    "# Check your answer\n",
    "q2.check()"
   ]
  },
  {
   "cell_type": "code",
   "execution_count": 6,
   "id": "09b8a5d4",
   "metadata": {
    "execution": {
     "iopub.execute_input": "2023-03-31T02:03:17.091078Z",
     "iopub.status.busy": "2023-03-31T02:03:17.090688Z",
     "iopub.status.idle": "2023-03-31T02:03:17.095560Z",
     "shell.execute_reply": "2023-03-31T02:03:17.094159Z"
    },
    "papermill": {
     "duration": 0.014711,
     "end_time": "2023-03-31T02:03:17.097942",
     "exception": false,
     "start_time": "2023-03-31T02:03:17.083231",
     "status": "completed"
    },
    "tags": []
   },
   "outputs": [],
   "source": [
    "#q2.hint()\n",
    "#q2.solution()"
   ]
  },
  {
   "cell_type": "markdown",
   "id": "5684dcf8",
   "metadata": {
    "papermill": {
     "duration": 0.006018,
     "end_time": "2023-03-31T02:03:17.111459",
     "exception": false,
     "start_time": "2023-03-31T02:03:17.105441",
     "status": "completed"
    },
    "tags": []
   },
   "source": [
    "## 3.\n",
    "The [Things on Reddit](https://www.kaggle.com/residentmario/things-on-reddit/data) dataset includes product links from a selection of top-ranked forums (\"subreddits\") on reddit.com. Run the cell below to load a dataframe of products mentioned on the */r/gaming* subreddit and another dataframe for products mentioned on the *r//movies* subreddit."
   ]
  },
  {
   "cell_type": "code",
   "execution_count": 7,
   "id": "fa6405d2",
   "metadata": {
    "execution": {
     "iopub.execute_input": "2023-03-31T02:03:17.126297Z",
     "iopub.status.busy": "2023-03-31T02:03:17.125469Z",
     "iopub.status.idle": "2023-03-31T02:03:17.145186Z",
     "shell.execute_reply": "2023-03-31T02:03:17.143219Z"
    },
    "papermill": {
     "duration": 0.030637,
     "end_time": "2023-03-31T02:03:17.148374",
     "exception": false,
     "start_time": "2023-03-31T02:03:17.117737",
     "status": "completed"
    },
    "tags": []
   },
   "outputs": [],
   "source": [
    "gaming_products = pd.read_csv(\"../input/things-on-reddit/top-things/top-things/reddits/g/gaming.csv\")\n",
    "gaming_products['subreddit'] = \"r/gaming\"\n",
    "movie_products = pd.read_csv(\"../input/things-on-reddit/top-things/top-things/reddits/m/movies.csv\")\n",
    "movie_products['subreddit'] = \"r/movies\""
   ]
  },
  {
   "cell_type": "markdown",
   "id": "c977e94f",
   "metadata": {
    "papermill": {
     "duration": 0.006048,
     "end_time": "2023-03-31T02:03:17.160843",
     "exception": false,
     "start_time": "2023-03-31T02:03:17.154795",
     "status": "completed"
    },
    "tags": []
   },
   "source": [
    "Create a `DataFrame` of products mentioned on *either* subreddit."
   ]
  },
  {
   "cell_type": "code",
   "execution_count": 8,
   "id": "3edffd24",
   "metadata": {
    "execution": {
     "iopub.execute_input": "2023-03-31T02:03:17.175011Z",
     "iopub.status.busy": "2023-03-31T02:03:17.174619Z",
     "iopub.status.idle": "2023-03-31T02:03:17.189722Z",
     "shell.execute_reply": "2023-03-31T02:03:17.188616Z"
    },
    "papermill": {
     "duration": 0.025243,
     "end_time": "2023-03-31T02:03:17.192167",
     "exception": false,
     "start_time": "2023-03-31T02:03:17.166924",
     "status": "completed"
    },
    "tags": []
   },
   "outputs": [
    {
     "data": {
      "application/javascript": [
       "parent.postMessage({\"jupyterEvent\": \"custom.exercise_interaction\", \"data\": {\"outcomeType\": 1, \"valueTowardsCompletion\": 0.25, \"interactionType\": 1, \"questionType\": 2, \"questionId\": \"3_ConcatReddit\", \"learnToolsVersion\": \"0.3.4\", \"failureMessage\": \"\", \"exceptionClass\": \"\", \"trace\": \"\"}}, \"*\")"
      ],
      "text/plain": [
       "<IPython.core.display.Javascript object>"
      ]
     },
     "metadata": {},
     "output_type": "display_data"
    },
    {
     "data": {
      "text/markdown": [
       "<span style=\"color:#33cc33\">Correct</span>"
      ],
      "text/plain": [
       "Correct"
      ]
     },
     "metadata": {},
     "output_type": "display_data"
    }
   ],
   "source": [
    "combined_products = pd.concat([gaming_products, movie_products])\n",
    "\n",
    "# Check your answer\n",
    "q3.check()"
   ]
  },
  {
   "cell_type": "code",
   "execution_count": 9,
   "id": "8efcc683",
   "metadata": {
    "execution": {
     "iopub.execute_input": "2023-03-31T02:03:17.206838Z",
     "iopub.status.busy": "2023-03-31T02:03:17.206434Z",
     "iopub.status.idle": "2023-03-31T02:03:17.210834Z",
     "shell.execute_reply": "2023-03-31T02:03:17.209658Z"
    },
    "papermill": {
     "duration": 0.014727,
     "end_time": "2023-03-31T02:03:17.213360",
     "exception": false,
     "start_time": "2023-03-31T02:03:17.198633",
     "status": "completed"
    },
    "tags": []
   },
   "outputs": [],
   "source": [
    "#q3.hint()\n",
    "#q3.solution()"
   ]
  },
  {
   "cell_type": "markdown",
   "id": "7a04a419",
   "metadata": {
    "papermill": {
     "duration": 0.006003,
     "end_time": "2023-03-31T02:03:17.225849",
     "exception": false,
     "start_time": "2023-03-31T02:03:17.219846",
     "status": "completed"
    },
    "tags": []
   },
   "source": [
    "## 4.\n",
    "The [Powerlifting Database](https://www.kaggle.com/open-powerlifting/powerlifting-database) dataset on Kaggle includes one CSV table for powerlifting meets and a separate one for powerlifting competitors. Run the cell below to load these datasets into dataframes:"
   ]
  },
  {
   "cell_type": "code",
   "execution_count": 10,
   "id": "6c300293",
   "metadata": {
    "execution": {
     "iopub.execute_input": "2023-03-31T02:03:17.240607Z",
     "iopub.status.busy": "2023-03-31T02:03:17.239826Z",
     "iopub.status.idle": "2023-03-31T02:03:17.955759Z",
     "shell.execute_reply": "2023-03-31T02:03:17.954539Z"
    },
    "papermill": {
     "duration": 0.726589,
     "end_time": "2023-03-31T02:03:17.958583",
     "exception": false,
     "start_time": "2023-03-31T02:03:17.231994",
     "status": "completed"
    },
    "tags": []
   },
   "outputs": [],
   "source": [
    "powerlifting_meets = pd.read_csv(\"../input/powerlifting-database/meets.csv\")\n",
    "powerlifting_competitors = pd.read_csv(\"../input/powerlifting-database/openpowerlifting.csv\")"
   ]
  },
  {
   "cell_type": "markdown",
   "id": "127d8216",
   "metadata": {
    "papermill": {
     "duration": 0.006521,
     "end_time": "2023-03-31T02:03:17.972352",
     "exception": false,
     "start_time": "2023-03-31T02:03:17.965831",
     "status": "completed"
    },
    "tags": []
   },
   "source": [
    "Both tables include references to a `MeetID`, a unique key for each meet (competition) included in the database. Using this, generate a dataset combining the two tables into one."
   ]
  },
  {
   "cell_type": "code",
   "execution_count": 11,
   "id": "ccfd26b5",
   "metadata": {
    "execution": {
     "iopub.execute_input": "2023-03-31T02:03:17.987359Z",
     "iopub.status.busy": "2023-03-31T02:03:17.986912Z",
     "iopub.status.idle": "2023-03-31T02:03:17.996242Z",
     "shell.execute_reply": "2023-03-31T02:03:17.995169Z"
    },
    "papermill": {
     "duration": 0.019722,
     "end_time": "2023-03-31T02:03:17.998677",
     "exception": false,
     "start_time": "2023-03-31T02:03:17.978955",
     "status": "completed"
    },
    "tags": []
   },
   "outputs": [
    {
     "data": {
      "application/javascript": [
       "parent.postMessage({\"jupyterEvent\": \"custom.exercise_interaction\", \"data\": {\"outcomeType\": 4, \"interactionType\": 1, \"questionType\": 2, \"questionId\": \"4_JoinLifting\", \"learnToolsVersion\": \"0.3.4\", \"valueTowardsCompletion\": 0.0, \"failureMessage\": \"\", \"exceptionClass\": \"\", \"trace\": \"\"}}, \"*\")"
      ],
      "text/plain": [
       "<IPython.core.display.Javascript object>"
      ]
     },
     "metadata": {},
     "output_type": "display_data"
    },
    {
     "data": {
      "text/markdown": [
       "<span style=\"color:#ccaa33\">Check:</span> When you've updated the starter code, `check()` will tell you whether your code is correct. You need to update the code that creates variable `powerlifting_combined`"
      ],
      "text/plain": [
       "Check: When you've updated the starter code, `check()` will tell you whether your code is correct. You need to update the code that creates variable `powerlifting_combined`"
      ]
     },
     "metadata": {},
     "output_type": "display_data"
    }
   ],
   "source": [
    "powerlifting_combined = ____\n",
    "\n",
    "# Check your answer\n",
    "q4.check()"
   ]
  },
  {
   "cell_type": "code",
   "execution_count": 12,
   "id": "dcfd9e02",
   "metadata": {
    "execution": {
     "iopub.execute_input": "2023-03-31T02:03:18.013717Z",
     "iopub.status.busy": "2023-03-31T02:03:18.013343Z",
     "iopub.status.idle": "2023-03-31T02:03:18.022613Z",
     "shell.execute_reply": "2023-03-31T02:03:18.021489Z"
    },
    "papermill": {
     "duration": 0.019746,
     "end_time": "2023-03-31T02:03:18.024939",
     "exception": false,
     "start_time": "2023-03-31T02:03:18.005193",
     "status": "completed"
    },
    "tags": []
   },
   "outputs": [
    {
     "data": {
      "application/javascript": [
       "parent.postMessage({\"jupyterEvent\": \"custom.exercise_interaction\", \"data\": {\"interactionType\": 3, \"questionType\": 2, \"questionId\": \"4_JoinLifting\", \"learnToolsVersion\": \"0.3.4\", \"valueTowardsCompletion\": 0.0, \"failureMessage\": \"\", \"exceptionClass\": \"\", \"trace\": \"\", \"outcomeType\": 4}}, \"*\")"
      ],
      "text/plain": [
       "<IPython.core.display.Javascript object>"
      ]
     },
     "metadata": {},
     "output_type": "display_data"
    },
    {
     "data": {
      "text/markdown": [
       "<span style=\"color:#33cc99\">Solution:</span> \n",
       "```python\n",
       "powerlifting_combined = powerlifting_meets.set_index(\"MeetID\").join(powerlifting_competitors.set_index(\"MeetID\"))\n",
       "```"
      ],
      "text/plain": [
       "Solution: \n",
       "```python\n",
       "powerlifting_combined = powerlifting_meets.set_index(\"MeetID\").join(powerlifting_competitors.set_index(\"MeetID\"))\n",
       "```"
      ]
     },
     "metadata": {},
     "output_type": "display_data"
    }
   ],
   "source": [
    "#q4.hint()\n",
    "q4.solution()"
   ]
  },
  {
   "cell_type": "markdown",
   "id": "f68dbab7",
   "metadata": {
    "papermill": {
     "duration": 0.006688,
     "end_time": "2023-03-31T02:03:18.038831",
     "exception": false,
     "start_time": "2023-03-31T02:03:18.032143",
     "status": "completed"
    },
    "tags": []
   },
   "source": [
    "# Congratulations!\n",
    "\n",
    "You've finished the Pandas micro-course.  Many data scientists feel efficiency with Pandas is the most useful and practical skill they have, because it allows you to progress quickly in any project you have.\n",
    "\n",
    "If you'd like to apply your new skills to examining geospatial data, you're encouraged to check out our **[Geospatial Analysis](https://www.kaggle.com/learn/geospatial-analysis)** micro-course.\n",
    "\n",
    "You can also take advantage of your Pandas skills by entering a **[Kaggle Competition](https://www.kaggle.com/competitions)** or by answering a question you find interesting using **[Kaggle Datasets](https://www.kaggle.com/datasets)**."
   ]
  },
  {
   "cell_type": "markdown",
   "id": "97cb8d68",
   "metadata": {
    "papermill": {
     "duration": 0.006434,
     "end_time": "2023-03-31T02:03:18.052099",
     "exception": false,
     "start_time": "2023-03-31T02:03:18.045665",
     "status": "completed"
    },
    "tags": []
   },
   "source": [
    "---\n",
    "\n",
    "\n",
    "\n",
    "\n",
    "*Have questions or comments? Visit the [course discussion forum](https://www.kaggle.com/learn/pandas/discussion) to chat with other learners.*"
   ]
  }
 ],
 "metadata": {
  "kernelspec": {
   "display_name": "Python 3",
   "language": "python",
   "name": "python3"
  },
  "language_info": {
   "codemirror_mode": {
    "name": "ipython",
    "version": 3
   },
   "file_extension": ".py",
   "mimetype": "text/x-python",
   "name": "python",
   "nbconvert_exporter": "python",
   "pygments_lexer": "ipython3",
   "version": "3.7.12"
  },
  "papermill": {
   "default_parameters": {},
   "duration": 17.053063,
   "end_time": "2023-03-31T02:03:18.881960",
   "environment_variables": {},
   "exception": null,
   "input_path": "__notebook__.ipynb",
   "output_path": "__notebook__.ipynb",
   "parameters": {},
   "start_time": "2023-03-31T02:03:01.828897",
   "version": "2.4.0"
  }
 },
 "nbformat": 4,
 "nbformat_minor": 5
}
