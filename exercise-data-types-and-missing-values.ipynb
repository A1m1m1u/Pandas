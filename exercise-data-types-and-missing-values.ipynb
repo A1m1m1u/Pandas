{
 "cells": [
  {
   "cell_type": "markdown",
   "id": "126727c3",
   "metadata": {
    "papermill": {
     "duration": 0.005627,
     "end_time": "2023-03-31T01:59:03.720747",
     "exception": false,
     "start_time": "2023-03-31T01:59:03.715120",
     "status": "completed"
    },
    "tags": []
   },
   "source": [
    "**This notebook is an exercise in the [Pandas](https://www.kaggle.com/learn/pandas) course.  You can reference the tutorial at [this link](https://www.kaggle.com/residentmario/data-types-and-missing-values).**\n",
    "\n",
    "---\n"
   ]
  },
  {
   "cell_type": "markdown",
   "id": "2672bf53",
   "metadata": {
    "papermill": {
     "duration": 0.004014,
     "end_time": "2023-03-31T01:59:03.729574",
     "exception": false,
     "start_time": "2023-03-31T01:59:03.725560",
     "status": "completed"
    },
    "tags": []
   },
   "source": [
    "# Introduction\n",
    "\n",
    "Run the following cell to load your data and some utility functions."
   ]
  },
  {
   "cell_type": "code",
   "execution_count": 1,
   "id": "a89c7e22",
   "metadata": {
    "execution": {
     "iopub.execute_input": "2023-03-31T01:59:03.740063Z",
     "iopub.status.busy": "2023-03-31T01:59:03.739663Z",
     "iopub.status.idle": "2023-03-31T01:59:06.412273Z",
     "shell.execute_reply": "2023-03-31T01:59:06.410943Z"
    },
    "papermill": {
     "duration": 2.681736,
     "end_time": "2023-03-31T01:59:06.415537",
     "exception": false,
     "start_time": "2023-03-31T01:59:03.733801",
     "status": "completed"
    },
    "tags": []
   },
   "outputs": [
    {
     "name": "stdout",
     "output_type": "stream",
     "text": [
      "Setup complete.\n"
     ]
    }
   ],
   "source": [
    "import pandas as pd\n",
    "\n",
    "reviews = pd.read_csv(\"../input/wine-reviews/winemag-data-130k-v2.csv\", index_col=0)\n",
    "\n",
    "from learntools.core import binder; binder.bind(globals())\n",
    "from learntools.pandas.data_types_and_missing_data import *\n",
    "print(\"Setup complete.\")"
   ]
  },
  {
   "cell_type": "markdown",
   "id": "d0d60e31",
   "metadata": {
    "papermill": {
     "duration": 0.004761,
     "end_time": "2023-03-31T01:59:06.424836",
     "exception": false,
     "start_time": "2023-03-31T01:59:06.420075",
     "status": "completed"
    },
    "tags": []
   },
   "source": [
    "# Exercises"
   ]
  },
  {
   "cell_type": "markdown",
   "id": "a46387e9",
   "metadata": {
    "papermill": {
     "duration": 0.004164,
     "end_time": "2023-03-31T01:59:06.433495",
     "exception": false,
     "start_time": "2023-03-31T01:59:06.429331",
     "status": "completed"
    },
    "tags": []
   },
   "source": [
    "## 1. \n",
    "What is the data type of the `points` column in the dataset?"
   ]
  },
  {
   "cell_type": "code",
   "execution_count": 2,
   "id": "397f38ea",
   "metadata": {
    "execution": {
     "iopub.execute_input": "2023-03-31T01:59:06.444573Z",
     "iopub.status.busy": "2023-03-31T01:59:06.443648Z",
     "iopub.status.idle": "2023-03-31T01:59:06.455163Z",
     "shell.execute_reply": "2023-03-31T01:59:06.453975Z"
    },
    "papermill": {
     "duration": 0.019911,
     "end_time": "2023-03-31T01:59:06.457743",
     "exception": false,
     "start_time": "2023-03-31T01:59:06.437832",
     "status": "completed"
    },
    "tags": []
   },
   "outputs": [
    {
     "data": {
      "application/javascript": [
       "parent.postMessage({\"jupyterEvent\": \"custom.exercise_interaction\", \"data\": {\"outcomeType\": 1, \"valueTowardsCompletion\": 0.25, \"interactionType\": 1, \"questionType\": 1, \"questionId\": \"1_PointsDtype\", \"learnToolsVersion\": \"0.3.4\", \"failureMessage\": \"\", \"exceptionClass\": \"\", \"trace\": \"\"}}, \"*\")"
      ],
      "text/plain": [
       "<IPython.core.display.Javascript object>"
      ]
     },
     "metadata": {},
     "output_type": "display_data"
    },
    {
     "data": {
      "text/markdown": [
       "<span style=\"color:#33cc33\">Correct</span>"
      ],
      "text/plain": [
       "Correct"
      ]
     },
     "metadata": {},
     "output_type": "display_data"
    }
   ],
   "source": [
    "# Your code here\n",
    "dtype = reviews['points'].dtype\n",
    "\n",
    "# Check your answer\n",
    "q1.check()"
   ]
  },
  {
   "cell_type": "code",
   "execution_count": 3,
   "id": "430ed519",
   "metadata": {
    "execution": {
     "iopub.execute_input": "2023-03-31T01:59:06.469508Z",
     "iopub.status.busy": "2023-03-31T01:59:06.468779Z",
     "iopub.status.idle": "2023-03-31T01:59:06.473551Z",
     "shell.execute_reply": "2023-03-31T01:59:06.472287Z"
    },
    "papermill": {
     "duration": 0.013064,
     "end_time": "2023-03-31T01:59:06.475684",
     "exception": false,
     "start_time": "2023-03-31T01:59:06.462620",
     "status": "completed"
    },
    "tags": []
   },
   "outputs": [],
   "source": [
    "#q1.hint()\n",
    "#q1.solution()"
   ]
  },
  {
   "cell_type": "markdown",
   "id": "48c601a9",
   "metadata": {
    "papermill": {
     "duration": 0.004535,
     "end_time": "2023-03-31T01:59:06.485048",
     "exception": false,
     "start_time": "2023-03-31T01:59:06.480513",
     "status": "completed"
    },
    "tags": []
   },
   "source": [
    "## 2. \n",
    "Create a Series from entries in the `points` column, but convert the entries to strings. Hint: strings are `str` in native Python."
   ]
  },
  {
   "cell_type": "code",
   "execution_count": 4,
   "id": "d7c90687",
   "metadata": {
    "execution": {
     "iopub.execute_input": "2023-03-31T01:59:06.496896Z",
     "iopub.status.busy": "2023-03-31T01:59:06.496150Z",
     "iopub.status.idle": "2023-03-31T01:59:06.586390Z",
     "shell.execute_reply": "2023-03-31T01:59:06.585293Z"
    },
    "papermill": {
     "duration": 0.098894,
     "end_time": "2023-03-31T01:59:06.588738",
     "exception": false,
     "start_time": "2023-03-31T01:59:06.489844",
     "status": "completed"
    },
    "tags": []
   },
   "outputs": [
    {
     "data": {
      "application/javascript": [
       "parent.postMessage({\"jupyterEvent\": \"custom.exercise_interaction\", \"data\": {\"outcomeType\": 1, \"valueTowardsCompletion\": 0.25, \"interactionType\": 1, \"questionType\": 1, \"questionId\": \"2_StrPoints\", \"learnToolsVersion\": \"0.3.4\", \"failureMessage\": \"\", \"exceptionClass\": \"\", \"trace\": \"\"}}, \"*\")"
      ],
      "text/plain": [
       "<IPython.core.display.Javascript object>"
      ]
     },
     "metadata": {},
     "output_type": "display_data"
    },
    {
     "data": {
      "text/markdown": [
       "<span style=\"color:#33cc33\">Correct</span>"
      ],
      "text/plain": [
       "Correct"
      ]
     },
     "metadata": {},
     "output_type": "display_data"
    }
   ],
   "source": [
    "point_strings = reviews.points.astype(str)\n",
    "\n",
    "# Check your answer\n",
    "q2.check()"
   ]
  },
  {
   "cell_type": "code",
   "execution_count": 5,
   "id": "881990d3",
   "metadata": {
    "execution": {
     "iopub.execute_input": "2023-03-31T01:59:06.600757Z",
     "iopub.status.busy": "2023-03-31T01:59:06.599875Z",
     "iopub.status.idle": "2023-03-31T01:59:06.604617Z",
     "shell.execute_reply": "2023-03-31T01:59:06.603385Z"
    },
    "papermill": {
     "duration": 0.013241,
     "end_time": "2023-03-31T01:59:06.606995",
     "exception": false,
     "start_time": "2023-03-31T01:59:06.593754",
     "status": "completed"
    },
    "tags": []
   },
   "outputs": [],
   "source": [
    "#q2.hint()\n",
    "#q2.solution()"
   ]
  },
  {
   "cell_type": "markdown",
   "id": "fef56c7b",
   "metadata": {
    "papermill": {
     "duration": 0.00467,
     "end_time": "2023-03-31T01:59:06.616753",
     "exception": false,
     "start_time": "2023-03-31T01:59:06.612083",
     "status": "completed"
    },
    "tags": []
   },
   "source": [
    "## 3.\n",
    "Sometimes the price column is null. How many reviews in the dataset are missing a price?"
   ]
  },
  {
   "cell_type": "code",
   "execution_count": 6,
   "id": "bc3cae03",
   "metadata": {
    "execution": {
     "iopub.execute_input": "2023-03-31T01:59:06.628867Z",
     "iopub.status.busy": "2023-03-31T01:59:06.627969Z",
     "iopub.status.idle": "2023-03-31T01:59:06.644843Z",
     "shell.execute_reply": "2023-03-31T01:59:06.644002Z"
    },
    "papermill": {
     "duration": 0.025368,
     "end_time": "2023-03-31T01:59:06.647026",
     "exception": false,
     "start_time": "2023-03-31T01:59:06.621658",
     "status": "completed"
    },
    "tags": []
   },
   "outputs": [
    {
     "data": {
      "application/javascript": [
       "parent.postMessage({\"jupyterEvent\": \"custom.exercise_interaction\", \"data\": {\"outcomeType\": 1, \"valueTowardsCompletion\": 0.25, \"interactionType\": 1, \"questionType\": 1, \"questionId\": \"3_CountMissingPrices\", \"learnToolsVersion\": \"0.3.4\", \"failureMessage\": \"\", \"exceptionClass\": \"\", \"trace\": \"\"}}, \"*\")"
      ],
      "text/plain": [
       "<IPython.core.display.Javascript object>"
      ]
     },
     "metadata": {},
     "output_type": "display_data"
    },
    {
     "data": {
      "text/markdown": [
       "<span style=\"color:#33cc33\">Correct</span>"
      ],
      "text/plain": [
       "Correct"
      ]
     },
     "metadata": {},
     "output_type": "display_data"
    }
   ],
   "source": [
    "missing_price_reviews = reviews[reviews.price.isnull()]\n",
    "n_missing_prices = len(missing_price_reviews)\n",
    "n_missing_prices = reviews.price.isnull().sum()\n",
    "# Check your answer\n",
    "q3.check()"
   ]
  },
  {
   "cell_type": "code",
   "execution_count": 7,
   "id": "fab54dc6",
   "metadata": {
    "execution": {
     "iopub.execute_input": "2023-03-31T01:59:06.659437Z",
     "iopub.status.busy": "2023-03-31T01:59:06.658982Z",
     "iopub.status.idle": "2023-03-31T01:59:06.663312Z",
     "shell.execute_reply": "2023-03-31T01:59:06.662191Z"
    },
    "papermill": {
     "duration": 0.013537,
     "end_time": "2023-03-31T01:59:06.665863",
     "exception": false,
     "start_time": "2023-03-31T01:59:06.652326",
     "status": "completed"
    },
    "tags": []
   },
   "outputs": [],
   "source": [
    "#q3.hint()\n",
    "#q3.solution()"
   ]
  },
  {
   "cell_type": "markdown",
   "id": "705bae11",
   "metadata": {
    "papermill": {
     "duration": 0.004885,
     "end_time": "2023-03-31T01:59:06.676248",
     "exception": false,
     "start_time": "2023-03-31T01:59:06.671363",
     "status": "completed"
    },
    "tags": []
   },
   "source": [
    "## 4.\n",
    "What are the most common wine-producing regions? Create a Series counting the number of times each value occurs in the `region_1` field. This field is often missing data, so replace missing values with `Unknown`. Sort in descending order.  Your output should look something like this:\n",
    "\n",
    "```\n",
    "Unknown                    21247\n",
    "Napa Valley                 4480\n",
    "                           ...  \n",
    "Bardolino Superiore            1\n",
    "Primitivo del Tarantino        1\n",
    "Name: region_1, Length: 1230, dtype: int64\n",
    "```"
   ]
  },
  {
   "cell_type": "code",
   "execution_count": 8,
   "id": "d1ac4608",
   "metadata": {
    "execution": {
     "iopub.execute_input": "2023-03-31T01:59:06.688987Z",
     "iopub.status.busy": "2023-03-31T01:59:06.688135Z",
     "iopub.status.idle": "2023-03-31T01:59:06.734429Z",
     "shell.execute_reply": "2023-03-31T01:59:06.733173Z"
    },
    "papermill": {
     "duration": 0.055451,
     "end_time": "2023-03-31T01:59:06.736853",
     "exception": false,
     "start_time": "2023-03-31T01:59:06.681402",
     "status": "completed"
    },
    "tags": []
   },
   "outputs": [
    {
     "data": {
      "application/javascript": [
       "parent.postMessage({\"jupyterEvent\": \"custom.exercise_interaction\", \"data\": {\"outcomeType\": 1, \"valueTowardsCompletion\": 0.25, \"interactionType\": 1, \"questionType\": 2, \"questionId\": \"4_ReviewsPerRegion\", \"learnToolsVersion\": \"0.3.4\", \"failureMessage\": \"\", \"exceptionClass\": \"\", \"trace\": \"\"}}, \"*\")"
      ],
      "text/plain": [
       "<IPython.core.display.Javascript object>"
      ]
     },
     "metadata": {},
     "output_type": "display_data"
    },
    {
     "data": {
      "text/markdown": [
       "<span style=\"color:#33cc33\">Correct</span>"
      ],
      "text/plain": [
       "Correct"
      ]
     },
     "metadata": {},
     "output_type": "display_data"
    }
   ],
   "source": [
    "reviews_per_region = reviews.region_1.fillna('Unknown').value_counts().sort_values(ascending=False)\n",
    "\n",
    "# Check your answer\n",
    "q4.check()"
   ]
  },
  {
   "cell_type": "code",
   "execution_count": 9,
   "id": "81938832",
   "metadata": {
    "execution": {
     "iopub.execute_input": "2023-03-31T01:59:06.750057Z",
     "iopub.status.busy": "2023-03-31T01:59:06.749330Z",
     "iopub.status.idle": "2023-03-31T01:59:06.758665Z",
     "shell.execute_reply": "2023-03-31T01:59:06.757444Z"
    },
    "papermill": {
     "duration": 0.018741,
     "end_time": "2023-03-31T01:59:06.761054",
     "exception": false,
     "start_time": "2023-03-31T01:59:06.742313",
     "status": "completed"
    },
    "tags": []
   },
   "outputs": [
    {
     "data": {
      "application/javascript": [
       "parent.postMessage({\"jupyterEvent\": \"custom.exercise_interaction\", \"data\": {\"interactionType\": 3, \"questionType\": 2, \"questionId\": \"4_ReviewsPerRegion\", \"learnToolsVersion\": \"0.3.4\", \"valueTowardsCompletion\": 0.0, \"failureMessage\": \"\", \"exceptionClass\": \"\", \"trace\": \"\", \"outcomeType\": 4}}, \"*\")"
      ],
      "text/plain": [
       "<IPython.core.display.Javascript object>"
      ]
     },
     "metadata": {},
     "output_type": "display_data"
    },
    {
     "data": {
      "text/markdown": [
       "<span style=\"color:#33cc99\">Solution:</span> \n",
       "```python\n",
       "reviews_per_region = reviews.region_1.fillna('Unknown').value_counts().sort_values(ascending=False)\n",
       "```"
      ],
      "text/plain": [
       "Solution: \n",
       "```python\n",
       "reviews_per_region = reviews.region_1.fillna('Unknown').value_counts().sort_values(ascending=False)\n",
       "```"
      ]
     },
     "metadata": {},
     "output_type": "display_data"
    }
   ],
   "source": [
    "#q4.hint()\n",
    "q4.solution()"
   ]
  },
  {
   "cell_type": "markdown",
   "id": "b29af2f6",
   "metadata": {
    "papermill": {
     "duration": 0.005284,
     "end_time": "2023-03-31T01:59:06.771916",
     "exception": false,
     "start_time": "2023-03-31T01:59:06.766632",
     "status": "completed"
    },
    "tags": []
   },
   "source": [
    "# Keep going\n",
    "\n",
    "Move on to **[renaming and combining](https://www.kaggle.com/residentmario/renaming-and-combining)**."
   ]
  },
  {
   "cell_type": "markdown",
   "id": "202a8623",
   "metadata": {
    "papermill": {
     "duration": 0.005377,
     "end_time": "2023-03-31T01:59:06.782840",
     "exception": false,
     "start_time": "2023-03-31T01:59:06.777463",
     "status": "completed"
    },
    "tags": []
   },
   "source": [
    "---\n",
    "\n",
    "\n",
    "\n",
    "\n",
    "*Have questions or comments? Visit the [course discussion forum](https://www.kaggle.com/learn/pandas/discussion) to chat with other learners.*"
   ]
  }
 ],
 "metadata": {
  "kernelspec": {
   "display_name": "Python 3",
   "language": "python",
   "name": "python3"
  },
  "language_info": {
   "codemirror_mode": {
    "name": "ipython",
    "version": 3
   },
   "file_extension": ".py",
   "mimetype": "text/x-python",
   "name": "python",
   "nbconvert_exporter": "python",
   "pygments_lexer": "ipython3",
   "version": "3.7.12"
  },
  "papermill": {
   "default_parameters": {},
   "duration": 13.819322,
   "end_time": "2023-03-31T01:59:07.509935",
   "environment_variables": {},
   "exception": null,
   "input_path": "__notebook__.ipynb",
   "output_path": "__notebook__.ipynb",
   "parameters": {},
   "start_time": "2023-03-31T01:58:53.690613",
   "version": "2.4.0"
  }
 },
 "nbformat": 4,
 "nbformat_minor": 5
}
